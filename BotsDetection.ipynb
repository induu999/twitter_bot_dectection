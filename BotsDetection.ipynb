{
 "cells": [
  {
   "cell_type": "code",
   "execution_count": 1,
   "metadata": {},
   "outputs": [
    {
     "data": {
      "text/plain": [
       "''"
      ]
     },
     "execution_count": 1,
     "metadata": {},
     "output_type": "execute_result"
    }
   ],
   "source": [
    "'''\n",
    "#Python3: BotsDataDownload.py\n",
    "@authors: jubinsoni\n",
    "#Submission for DataScience Incubator: Project\n",
    "Dependencies: Tweepy, Pandas, Numpy\n",
    "#Description: Using Twitter REST API data is downloaded, bots and nonbots are labeled and results saved into a csv.\n",
    "'''\n",
    "\"\""
   ]
  },
  {
   "cell_type": "code",
   "execution_count": 2,
   "metadata": {},
   "outputs": [],
   "source": [
    "### First I have collected the data using Twitter API"
   ]
  },
  {
   "cell_type": "code",
   "execution_count": 11,
   "metadata": {
    "collapsed": true
   },
   "outputs": [
    {
     "ename": "SyntaxError",
     "evalue": "invalid syntax (streaming.py, line 358)",
     "output_type": "error",
     "traceback": [
      "Traceback \u001b[1;36m(most recent call last)\u001b[0m:\n",
      "  File \u001b[0;32m\"c:\\users\\dinesh reddy\\appdata\\local\\programs\\python\\python39\\lib\\site-packages\\IPython\\core\\interactiveshell.py\"\u001b[0m, line \u001b[0;32m3457\u001b[0m, in \u001b[0;35mrun_code\u001b[0m\n    exec(code_obj, self.user_global_ns, self.user_ns)\n",
      "  File \u001b[0;32m\"C:\\Users\\DINESH~1\\AppData\\Local\\Temp/ipykernel_25520/751312956.py\"\u001b[0m, line \u001b[0;32m1\u001b[0m, in \u001b[0;35m<module>\u001b[0m\n    import tweepy\n",
      "\u001b[1;36m  File \u001b[1;32m\"c:\\users\\dinesh reddy\\appdata\\local\\programs\\python\\python39\\lib\\site-packages\\tweepy\\__init__.py\"\u001b[1;36m, line \u001b[1;32m17\u001b[1;36m, in \u001b[1;35m<module>\u001b[1;36m\u001b[0m\n\u001b[1;33m    from tweepy.streaming import Stream, StreamListener\u001b[0m\n",
      "\u001b[1;36m  File \u001b[1;32m\"c:\\users\\dinesh reddy\\appdata\\local\\programs\\python\\python39\\lib\\site-packages\\tweepy\\streaming.py\"\u001b[1;36m, line \u001b[1;32m358\u001b[0m\n\u001b[1;33m    def _start(self, async):\u001b[0m\n\u001b[1;37m                     ^\u001b[0m\n\u001b[1;31mSyntaxError\u001b[0m\u001b[1;31m:\u001b[0m invalid syntax\n"
     ]
    }
   ],
   "source": [
    "import tweepy\n",
    "import os,sys, csv, time\n",
    "import pandas as pd\n",
    "import numpy as np\n",
    "\n",
    "def createOutput(data, isbot):\n",
    "    header = ['id', 'id_str', 'screen_name', 'location', 'description', 'url',\n",
    "                'followers_count', 'friends_count', 'listed_count', 'created_at',\n",
    "                'favourites_count', 'verified', 'statuses_count', 'lang', 'status',\n",
    "                'default_profile','default_profile_image', 'has_extended_profile',\n",
    "                'name']\n",
    "    d = {}\n",
    "    for key in header:\n",
    "        if key not in data.keys():\n",
    "            d[key] = \"\"\n",
    "        elif key == 'status':\n",
    "            d[key] = str(data[key])\n",
    "        else:\n",
    "            d[key] = data[key]\n",
    "\n",
    "    df = pd.DataFrame(d, columns= header, index=np.arange(1))\n",
    "    df['bot'] = isbot\n",
    "    return df\n",
    "\n",
    "def get_bots_list():\n",
    "    bots_list = []\n",
    "    for bots in tweepy.Cursor(api.list_members, '01101O10', 'bot-list').items():\n",
    "        bots_list.append (bots._json['screen_name'])\n",
    "    return bots_list[:50]\n",
    "\n",
    "def real_users_list():\n",
    "    real_users = []\n",
    "    for users in tweepy.Cursor(api.list_members, list_id = 912241909002833921).items():\n",
    "        real_users.append (users._json['screen_name'])\n",
    "    return real_users[:50]\n",
    "\n",
    "def get_user_list():\n",
    "    user_list = get_bots_list() + real_users_list()\n",
    "    filename = 'bots_nonbots_output.csv'\n",
    "    return user_list, filename\n",
    "    print (\"Gathering real-time data Using Twitter API.\")"
   ]
  },
  {
   "cell_type": "code",
   "execution_count": 1,
   "metadata": {
    "collapsed": true
   },
   "outputs": [
    {
     "ename": "NameError",
     "evalue": "name 'time' is not defined",
     "output_type": "error",
     "traceback": [
      "\u001b[1;31m---------------------------------------------------------------------------\u001b[0m",
      "\u001b[1;31mNameError\u001b[0m                                 Traceback (most recent call last)",
      "\u001b[1;32mC:\\Users\\DINESH~1\\AppData\\Local\\Temp/ipykernel_12108/3594035897.py\u001b[0m in \u001b[0;36m<module>\u001b[1;34m\u001b[0m\n\u001b[1;32m----> 1\u001b[1;33m \u001b[0mstart\u001b[0m\u001b[1;33m=\u001b[0m\u001b[0mtime\u001b[0m\u001b[1;33m.\u001b[0m\u001b[0mtime\u001b[0m\u001b[1;33m(\u001b[0m\u001b[1;33m)\u001b[0m\u001b[1;33m\u001b[0m\u001b[1;33m\u001b[0m\u001b[0m\n\u001b[0m\u001b[0;32m      2\u001b[0m \u001b[1;31m#Twitter credentials\u001b[0m\u001b[1;33m\u001b[0m\u001b[1;33m\u001b[0m\u001b[1;33m\u001b[0m\u001b[0m\n\u001b[0;32m      3\u001b[0m \u001b[0mconsumer_key\u001b[0m\u001b[1;33m=\u001b[0m\u001b[1;34m'25SjEQNdimGLs9BNcAfbJW3dA'\u001b[0m\u001b[1;33m\u001b[0m\u001b[1;33m\u001b[0m\u001b[0m\n\u001b[0;32m      4\u001b[0m \u001b[0mconsumer_secret\u001b[0m\u001b[1;33m=\u001b[0m\u001b[1;34m'RTt7e2m4iWwbXUUHyH4Vn7YRm6jpoQmm4m8RhedqohQBNbyYLU'\u001b[0m\u001b[1;33m\u001b[0m\u001b[1;33m\u001b[0m\u001b[0m\n\u001b[0;32m      5\u001b[0m \u001b[0maccess_key\u001b[0m \u001b[1;33m=\u001b[0m \u001b[1;34m'755246834826838016-GPchEozsoRFTm10LbSbUKyG2NlIoLOR'\u001b[0m\u001b[1;33m\u001b[0m\u001b[1;33m\u001b[0m\u001b[0m\n",
      "\u001b[1;31mNameError\u001b[0m: name 'time' is not defined"
     ]
    }
   ],
   "source": [
    "start=time.time()\n",
    "#Twitter credentials\n",
    "consumer_key='25SjEQNdimGLs9BNcAfbJW3dA'\n",
    "consumer_secret='RTt7e2m4iWwbXUUHyH4Vn7YRm6jpoQmm4m8RhedqohQBNbyYLU'\n",
    "access_key = '755246834826838016-GPchEozsoRFTm10LbSbUKyG2NlIoLOR'\n",
    "access_secret = 'x0LXflU8vJFojsXfgumxLNlh8TEMUCUpqkK5fuH98UY6o'\n",
    "\n",
    "auth = tweepy.OAuthHandler(consumer_key, consumer_secret)\n",
    "auth.set_access_token(access_key,access_secret)\n",
    "api = tweepy.API(auth,wait_on_rate_limit=True)\n",
    "\n",
    "user_list, filename = get_user_list()\n",
    "\n",
    "df = pd.DataFrame()\n",
    "for i,users in enumerate(user_list, start=1):\n",
    "    isbot=0\n",
    "    if(i<=50):\n",
    "        isbot=1\n",
    "    data = api.get_user(users)._json\n",
    "    data_df1 = createOutput(data, isbot)\n",
    "    df = pd.concat([data_df1, df], axis= 0, ignore_index = True)\n",
    "\n",
    "df.to_csv(filename, encoding='utf-8')\n",
    "print (\"All records are saved to csv. \\nDuration: \"+str(time.time()-start)+\" seconds.\")"
   ]
  },
  {
   "cell_type": "markdown",
   "metadata": {},
   "source": [
    "### Analyzing important features (Pre-processing)"
   ]
  },
  {
   "cell_type": "code",
   "execution_count": 13,
   "metadata": {},
   "outputs": [],
   "source": [
    "import os,sys, csv, time\n",
    "import pandas as pd\n",
    "import numpy as np\n",
    "\n",
    "#Due to data download limit I already had downloaded the data at below location\n",
    "\n",
    "filepath = './data/'\n",
    "bots = pd.read_csv(filepath+'bots_data.csv' ,encoding='latin-1')\n",
    "nonbots = pd.read_csv(filepath+'nonbots_data.csv', encoding='latin-1')"
   ]
  },
  {
   "cell_type": "code",
   "execution_count": 6,
   "metadata": {},
   "outputs": [
    {
     "name": "stdout",
     "output_type": "stream",
     "text": [
      "Bots shape: (1056, 24)\n",
      "Nonbots shape: (1176, 24)\n"
     ]
    }
   ],
   "source": [
    "def vectorize_bots(bots, condition):\n",
    "    bots['screen_name_binary'] = (bots.screen_name.str.contains(\"bot\", case=False)==True)\n",
    "    bots['description_binary'] = (bots.description.str.contains(\"bot\", case=False)==True)\n",
    "    bots['location_binary'] = (bots.location.isnull())\n",
    "    bots['verified_binary'] = (bots.verified==False)\n",
    "    return bots\n",
    "\n",
    "def vectorize_nonbots(nonbots, condition):\n",
    "    nonbots['screen_name_binary'] = (nonbots.screen_name.str.contains(\"bot\", case=False)==False)\n",
    "    nonbots['description_binary'] = (nonbots.description.str.contains(\"bot\", case=False)==False)\n",
    "    nonbots['location_binary'] = (nonbots.location.isnull()==False)\n",
    "    nonbots['verified_binary'] = (nonbots.verified==True)\n",
    "    return nonbots\n",
    "\n",
    "\n",
    "#Creating Bots identifying condition\n",
    "#bots[bots.listedcount>10000]\n",
    "condition = (bots.screen_name.str.contains(\"bot\", case=False)==True)|(bots.description.str.contains(\"bot\", case=False)==True)|(bots.location.isnull())|(bots.verified==False)\n",
    "bots = vectorize_bots(bots, condition)\n",
    "print(\"Bots shape: {0}\".format(bots.shape))\n",
    "\n",
    "#Creating NonBots identifying condition\n",
    "condition = (nonbots.screen_name.str.contains(\"bot\", case=False)==False)| (nonbots.description.str.contains(\"bot\", case=False)==False) |(nonbots.location.isnull()==False)|(nonbots.verified==True)\n",
    "nonbots = vectorize_nonbots(nonbots, condition)\n",
    "print(\"Nonbots shape: {0}\".format(nonbots.shape))"
   ]
  },
  {
   "cell_type": "code",
   "execution_count": 7,
   "metadata": {},
   "outputs": [
    {
     "name": "stdout",
     "output_type": "stream",
     "text": [
      "DataFrames created.\n"
     ]
    }
   ],
   "source": [
    "#Joining Bots and NonBots dataframes\n",
    "df = pd.concat([bots, nonbots])\n",
    "print(\"DataFrames created.\")"
   ]
  },
  {
   "cell_type": "code",
   "execution_count": 8,
   "metadata": {},
   "outputs": [
    {
     "name": "stdout",
     "output_type": "stream",
     "text": [
      "Randomly splitting the dataset into training and test, and training classifiers.\n",
      "\n"
     ]
    }
   ],
   "source": [
    "#Splitting data randombly into train_df and test_df\n",
    "from sklearn.model_selection import train_test_split\n",
    "train_df, test_df = train_test_split(df, test_size=0.2)\n",
    "print(\"Randomly splitting the dataset into training and test, and training classifiers.\\n\")"
   ]
  },
  {
   "cell_type": "markdown",
   "metadata": {},
   "source": [
    "### Using Decision Tree Classifier"
   ]
  },
  {
   "cell_type": "code",
   "execution_count": 9,
   "metadata": {
    "scrolled": false
   },
   "outputs": [
    {
     "name": "stdout",
     "output_type": "stream",
     "text": [
      "Decision Tree Classifier Accuracy: 93.51230425055928%\n"
     ]
    }
   ],
   "source": [
    "#Using Decision Tree Classifier\n",
    "from sklearn.tree import DecisionTreeClassifier\n",
    "from sklearn.metrics import accuracy_score\n",
    "\n",
    "clf = DecisionTreeClassifier(criterion='entropy')\n",
    "\n",
    "#80%\n",
    "X_train = train_df[['screen_name_binary', 'description_binary', 'location_binary', 'verified_binary']] #train_data\n",
    "y_train = train_df['bot'] #train_target\n",
    "\n",
    "#20%\n",
    "X_test = test_df[['screen_name_binary', 'description_binary', 'location_binary', 'verified_binary']] #test_Data\n",
    "y_test = test_df['bot'] #test_target\n",
    "\n",
    "#Training on decision tree classifier\n",
    "model = clf.fit(X_train, y_train)\n",
    "\n",
    "#Predicting on test data\n",
    "predicted = model.predict(X_test)\n",
    "\n",
    "#Checking accuracy\n",
    "print(\"Decision Tree Classifier Accuracy: {0}%\".format(100*accuracy_score(y_test, predicted)))"
   ]
  },
  {
   "cell_type": "code",
   "execution_count": 3,
   "metadata": {},
   "outputs": [
    {
     "data": {
      "text/plain": [
       "93"
      ]
     },
     "execution_count": 3,
     "metadata": {},
     "output_type": "execute_result"
    }
   ],
   "source": [
    "93"
   ]
  },
  {
   "cell_type": "code",
   "execution_count": 1,
   "metadata": {},
   "outputs": [
    {
     "data": {
      "text/plain": [
       "99"
      ]
     },
     "execution_count": 1,
     "metadata": {},
     "output_type": "execute_result"
    }
   ],
   "source": [
    "99"
   ]
  },
  {
   "cell_type": "code",
   "execution_count": null,
   "metadata": {},
   "outputs": [],
   "source": []
  },
  {
   "cell_type": "markdown",
   "metadata": {},
   "source": [
    "# "
   ]
  },
  {
   "cell_type": "code",
   "execution_count": null,
   "metadata": {},
   "outputs": [],
   "source": []
  },
  {
   "cell_type": "code",
   "execution_count": null,
   "metadata": {},
   "outputs": [],
   "source": []
  },
  {
   "cell_type": "code",
   "execution_count": null,
   "metadata": {},
   "outputs": [],
   "source": []
  },
  {
   "cell_type": "code",
   "execution_count": null,
   "metadata": {},
   "outputs": [],
   "source": []
  },
  {
   "cell_type": "code",
   "execution_count": null,
   "metadata": {},
   "outputs": [],
   "source": []
  }
 ],
 "metadata": {
  "kernelspec": {
   "display_name": "Python 3 (ipykernel)",
   "language": "python",
   "name": "python3"
  },
  "language_info": {
   "codemirror_mode": {
    "name": "ipython",
    "version": 3
   },
   "file_extension": ".py",
   "mimetype": "text/x-python",
   "name": "python",
   "nbconvert_exporter": "python",
   "pygments_lexer": "ipython3",
   "version": "3.9.1"
  }
 },
 "nbformat": 4,
 "nbformat_minor": 2
}
